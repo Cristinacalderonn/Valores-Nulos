{
  "nbformat": 4,
  "nbformat_minor": 0,
  "metadata": {
    "colab": {
      "provenance": [],
      "authorship_tag": "ABX9TyOjRCEcFGUSQss1R2mNOdqS",
      "include_colab_link": true
    },
    "kernelspec": {
      "name": "python3",
      "display_name": "Python 3"
    },
    "language_info": {
      "name": "python"
    }
  },
  "cells": [
    {
      "cell_type": "markdown",
      "metadata": {
        "id": "view-in-github",
        "colab_type": "text"
      },
      "source": [
        "<a href=\"https://colab.research.google.com/github/Cristinacalderonn/Valores-Nulos/blob/main/Ventas_totales.ipynb\" target=\"_parent\"><img src=\"https://colab.research.google.com/assets/colab-badge.svg\" alt=\"Open In Colab\"/></a>"
      ]
    },
    {
      "cell_type": "code",
      "execution_count": 1,
      "metadata": {
        "id": "ldVQIF9k-kvf"
      },
      "outputs": [],
      "source": [
        "import pandas as pd\n",
        "import numpy as np\n",
        "import matplotlib.pyplot as plt"
      ]
    },
    {
      "cell_type": "code",
      "source": [
        "from google.colab import files\n",
        "files.upload()"
      ],
      "metadata": {
        "id": "dvFB_qhE-1zZ"
      },
      "execution_count": null,
      "outputs": []
    },
    {
      "cell_type": "code",
      "source": [
        "#Carga desde un archivo .csv sin indice\n",
        "data=pd.read_csv('Ventas_totales.csv')\n",
        "data.head(5)"
      ],
      "metadata": {
        "id": "kiPJnuCL_3LC"
      },
      "execution_count": null,
      "outputs": []
    },
    {
      "cell_type": "code",
      "source": [
        "valores_nulos=data.isnull().sum()\n",
        "valores_nulos"
      ],
      "metadata": {
        "id": "_FNUZtvNCPN0"
      },
      "execution_count": null,
      "outputs": []
    },
    {
      "cell_type": "code",
      "source": [
        "data2=data.copy()"
      ],
      "metadata": {
        "id": "zAusnxi_CfLd"
      },
      "execution_count": 21,
      "outputs": []
    },
    {
      "cell_type": "code",
      "source": [
        "data2[\"salon_ventas\"]=data2[\"salon_ventas\"].fillna(round(data[\"salon_ventas\"].mean(),1),)"
      ],
      "metadata": {
        "id": "D-9CbcjpCzBd"
      },
      "execution_count": 23,
      "outputs": []
    },
    {
      "cell_type": "code",
      "source": [
        "valores_nulos=data2.isnull().sum()\n",
        "valores_nulos"
      ],
      "metadata": {
        "id": "9rw7d83LC4Uv"
      },
      "execution_count": null,
      "outputs": []
    },
    {
      "cell_type": "code",
      "source": [
        "data2[\"tarjetas_debito\"]=data2[\"tarjetas_debito\"].fillna(round(data[\"tarjetas_debito\"].median(),1),)"
      ],
      "metadata": {
        "id": "ZQcUAqBRC72V"
      },
      "execution_count": 25,
      "outputs": []
    },
    {
      "cell_type": "code",
      "source": [
        "valores_nulos=data2.isnull().sum()\n",
        "valores_nulos"
      ],
      "metadata": {
        "id": "19vtkngiC_iS"
      },
      "execution_count": null,
      "outputs": []
    },
    {
      "cell_type": "code",
      "source": [
        "data2[\"tarjetas_credito\"]=data2[\"tarjetas_credito\"].fillna(method=\"ffill\")\n",
        "data2"
      ],
      "metadata": {
        "id": "y_3raKAMDEHd"
      },
      "execution_count": null,
      "outputs": []
    },
    {
      "cell_type": "code",
      "source": [
        "valores_nulos=data2.isnull().sum()\n",
        "valores_nulos"
      ],
      "metadata": {
        "id": "UvrIflIFDGpl"
      },
      "execution_count": null,
      "outputs": []
    },
    {
      "cell_type": "code",
      "source": [
        "data2[\"otros_medios\"]=data2[\"otros_medios\"].fillna(method=\"ffill\")\n",
        "data2"
      ],
      "metadata": {
        "id": "l7vnB7WiDJIg"
      },
      "execution_count": null,
      "outputs": []
    },
    {
      "cell_type": "code",
      "source": [
        "valores_nulos=data2.isnull().sum()\n",
        "valores_nulos"
      ],
      "metadata": {
        "id": "X5ilwH2hDO1K"
      },
      "execution_count": null,
      "outputs": []
    },
    {
      "cell_type": "code",
      "source": [
        "data2[\"subtotal_ventas_alimentos_bebidas\"]=data2[\"subtotal_ventas_alimentos_bebidas\"].fillna(round(data[\"subtotal_ventas_alimentos_bebidas\"].mean(),1),)"
      ],
      "metadata": {
        "id": "rB5oQMxKDQlH"
      },
      "execution_count": 32,
      "outputs": []
    },
    {
      "cell_type": "code",
      "source": [
        "valores_nulos=data2.isnull().sum()\n",
        "valores_nulos"
      ],
      "metadata": {
        "id": "ykKJT0J2DUQH"
      },
      "execution_count": null,
      "outputs": []
    },
    {
      "cell_type": "code",
      "source": [
        "data2[\"bebidas\"]=data2[\"bebidas\"].fillna(method=\"ffill\")\n",
        "data2"
      ],
      "metadata": {
        "id": "LIf0rdV7DVwN"
      },
      "execution_count": null,
      "outputs": []
    },
    {
      "cell_type": "code",
      "source": [
        "valores_nulos=data2.isnull().sum()\n",
        "valores_nulos"
      ],
      "metadata": {
        "id": "CNLrBaCkDZVs"
      },
      "execution_count": null,
      "outputs": []
    },
    {
      "cell_type": "code",
      "source": [
        "data2[\"almacen\"]=data2[\"almacen\"].fillna(method=\"bfill\")\n",
        "data2"
      ],
      "metadata": {
        "id": "0ZqYn3GgDbV2"
      },
      "execution_count": null,
      "outputs": []
    },
    {
      "cell_type": "code",
      "source": [
        "valores_nulos=data2.isnull().sum()\n",
        "valores_nulos"
      ],
      "metadata": {
        "id": "e92o8iGYDrF4"
      },
      "execution_count": null,
      "outputs": []
    },
    {
      "cell_type": "code",
      "source": [
        "data2[\"panaderia\"]=data2[\"panaderia\"].fillna(method=\"bfill\")\n",
        "data2"
      ],
      "metadata": {
        "id": "Jzqs5O6_DtQn"
      },
      "execution_count": null,
      "outputs": []
    },
    {
      "cell_type": "code",
      "source": [
        "valores_nulos=data2.isnull().sum()\n",
        "valores_nulos"
      ],
      "metadata": {
        "id": "o0qPDKZxDwn7"
      },
      "execution_count": null,
      "outputs": []
    },
    {
      "cell_type": "code",
      "source": [
        "data2[\"lacteos\"]=data2[\"lacteos\"].fillna(method=\"bfill\")\n",
        "data2"
      ],
      "metadata": {
        "id": "w0EnSiM_D0C6"
      },
      "execution_count": null,
      "outputs": []
    },
    {
      "cell_type": "code",
      "source": [
        "valores_nulos=data2.isnull().sum()\n",
        "valores_nulos"
      ],
      "metadata": {
        "id": "4iJ9FpeSD3Qs"
      },
      "execution_count": null,
      "outputs": []
    },
    {
      "cell_type": "code",
      "source": [
        "data2[\"carnes\"]=data2[\"carnes\"].fillna(method=\"bfill\")\n",
        "data2"
      ],
      "metadata": {
        "id": "51jGwXGPD5ea"
      },
      "execution_count": null,
      "outputs": []
    },
    {
      "cell_type": "code",
      "source": [
        "valores_nulos=data2.isnull().sum()\n",
        "valores_nulos"
      ],
      "metadata": {
        "id": "03tlgSijD9cr"
      },
      "execution_count": null,
      "outputs": []
    },
    {
      "cell_type": "code",
      "source": [
        "data2[\"verduleria_fruteria\"]=data2[\"verduleria_fruteria\"].fillna(method=\"bfill\")\n",
        "data2"
      ],
      "metadata": {
        "id": "FVNKlvZZEBva"
      },
      "execution_count": null,
      "outputs": []
    },
    {
      "cell_type": "code",
      "source": [
        "valores_nulos=data2.isnull().sum()\n",
        "valores_nulos"
      ],
      "metadata": {
        "id": "uVs5AW0WEE1-"
      },
      "execution_count": null,
      "outputs": []
    },
    {
      "cell_type": "code",
      "source": [
        "data2[\"alimentos_preparados_rotiseria\"]=data2[\"alimentos_preparados_rotiseria\"].fillna(method=\"bfill\")\n",
        "data2"
      ],
      "metadata": {
        "id": "WeR0Xdv2EGo1"
      },
      "execution_count": null,
      "outputs": []
    },
    {
      "cell_type": "code",
      "source": [
        "valores_nulos=data2.isnull().sum()\n",
        "valores_nulos"
      ],
      "metadata": {
        "id": "oHADdnRlEJiS"
      },
      "execution_count": null,
      "outputs": []
    },
    {
      "cell_type": "code",
      "source": [
        "data2[\"indumentaria_calzado_textiles_hogar\"]=data2[\"indumentaria_calzado_textiles_hogar\"].fillna(method=\"bfill\")\n",
        "data2"
      ],
      "metadata": {
        "id": "X5ZJziuiELeC"
      },
      "execution_count": null,
      "outputs": []
    },
    {
      "cell_type": "code",
      "source": [
        "valores_nulos=data2.isnull().sum()\n",
        "valores_nulos"
      ],
      "metadata": {
        "id": "AuUUiAPAEOak"
      },
      "execution_count": null,
      "outputs": []
    },
    {
      "cell_type": "code",
      "source": [
        "data2[\"electronicos_articulos_hogar\"]=data2[\"electronicos_articulos_hogar\"].fillna(round(data[\"electronicos_articulos_hogar\"].mean(),1),)"
      ],
      "metadata": {
        "id": "_94SUMTmES4v"
      },
      "execution_count": 50,
      "outputs": []
    },
    {
      "cell_type": "code",
      "source": [
        "valores_nulos=data2.isnull().sum()\n",
        "valores_nulos"
      ],
      "metadata": {
        "id": "KgpqUK_rEVWf"
      },
      "execution_count": null,
      "outputs": []
    },
    {
      "cell_type": "code",
      "source": [
        "data2[\"otros\"]=data2[\"otros\"].fillna(round(data[\"otros\"].mean(),1),)"
      ],
      "metadata": {
        "id": "mUVWywqtEYVO"
      },
      "execution_count": 52,
      "outputs": []
    },
    {
      "cell_type": "code",
      "source": [
        "valores_nulos=data2.isnull().sum()\n",
        "valores_nulos"
      ],
      "metadata": {
        "id": "ke-pG6iwEZ6o"
      },
      "execution_count": null,
      "outputs": []
    },
    {
      "cell_type": "code",
      "source": [
        "data2.to_csv(\"VentasTotales_sin_nulos.csv\")"
      ],
      "metadata": {
        "id": "gH8wdgoNEeCx"
      },
      "execution_count": 54,
      "outputs": []
    },
    {
      "cell_type": "code",
      "source": [
        "from google.colab import files"
      ],
      "metadata": {
        "id": "N1XgEuPKEgeT"
      },
      "execution_count": 55,
      "outputs": []
    },
    {
      "cell_type": "code",
      "source": [
        "files.download(\"VentasTotales_sin_nulos.csv\")"
      ],
      "metadata": {
        "colab": {
          "base_uri": "https://localhost:8080/",
          "height": 17
        },
        "id": "2JlJi80rEkdP",
        "outputId": "73a3c36b-edde-437c-dbca-453530b0b1ec"
      },
      "execution_count": 56,
      "outputs": [
        {
          "output_type": "display_data",
          "data": {
            "text/plain": [
              "<IPython.core.display.Javascript object>"
            ],
            "application/javascript": [
              "\n",
              "    async function download(id, filename, size) {\n",
              "      if (!google.colab.kernel.accessAllowed) {\n",
              "        return;\n",
              "      }\n",
              "      const div = document.createElement('div');\n",
              "      const label = document.createElement('label');\n",
              "      label.textContent = `Downloading \"${filename}\": `;\n",
              "      div.appendChild(label);\n",
              "      const progress = document.createElement('progress');\n",
              "      progress.max = size;\n",
              "      div.appendChild(progress);\n",
              "      document.body.appendChild(div);\n",
              "\n",
              "      const buffers = [];\n",
              "      let downloaded = 0;\n",
              "\n",
              "      const channel = await google.colab.kernel.comms.open(id);\n",
              "      // Send a message to notify the kernel that we're ready.\n",
              "      channel.send({})\n",
              "\n",
              "      for await (const message of channel.messages) {\n",
              "        // Send a message to notify the kernel that we're ready.\n",
              "        channel.send({})\n",
              "        if (message.buffers) {\n",
              "          for (const buffer of message.buffers) {\n",
              "            buffers.push(buffer);\n",
              "            downloaded += buffer.byteLength;\n",
              "            progress.value = downloaded;\n",
              "          }\n",
              "        }\n",
              "      }\n",
              "      const blob = new Blob(buffers, {type: 'application/binary'});\n",
              "      const a = document.createElement('a');\n",
              "      a.href = window.URL.createObjectURL(blob);\n",
              "      a.download = filename;\n",
              "      div.appendChild(a);\n",
              "      a.click();\n",
              "      div.remove();\n",
              "    }\n",
              "  "
            ]
          },
          "metadata": {}
        },
        {
          "output_type": "display_data",
          "data": {
            "text/plain": [
              "<IPython.core.display.Javascript object>"
            ],
            "application/javascript": [
              "download(\"download_7b8c0194-cd2b-4c36-a9ef-e6c7372bc26c\", \"VentasTotales_sin_nulos.csv\", 18616)"
            ]
          },
          "metadata": {}
        }
      ]
    },
    {
      "cell_type": "markdown",
      "source": [
        "Para este archivo usamos como metodos de sustitución de valores nulos usamos\n",
        "\n",
        "mean y median para las columnas con mayor cantidad de valores nulos\n",
        "bfill y ffill para las columans con menor cantidad de valores nulos"
      ],
      "metadata": {
        "id": "AYBvgqWtEt8j"
      }
    }
  ]
}